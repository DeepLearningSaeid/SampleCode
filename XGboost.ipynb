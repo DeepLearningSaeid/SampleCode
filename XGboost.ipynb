{
 "cells": [
  {
   "cell_type": "code",
   "execution_count": null,
   "metadata": {},
   "outputs": [],
   "source": [
    "# import necessary libraries\n",
    "from pyspark.sql.functions import *\n",
    "import pandas as pd\n",
    "import xgboost as xgb\n",
    "\n",
    "# load XGBoost model from pkl file\n",
    "xgb_model = xgb.Booster()\n",
    "xgb_model.load_model('path/to/xgb_model.pkl')\n",
    "\n",
    "# define a function to make predictions using XGBoost model\n",
    "def predict(xgb_model, data):\n",
    "    # convert PySpark DataFrame to pandas DataFrame\n",
    "    pdf = data.select(\"*\").toPandas()\n",
    "    \n",
    "    # make predictions using XGBoost model\n",
    "    dtest = xgb.DMatrix(pdf)\n",
    "    preds = xgb_model.predict(dtest)\n",
    "    \n",
    "    # convert predictions to PySpark DataFrame\n",
    "    prediction = spark.createDataFrame(pd.DataFrame(preds, columns=['prediction']))\n",
    "    \n",
    "    return prediction\n",
    "\n",
    "# load PySpark DataFrame\n",
    "data = spark.read.csv('path/to/data.csv', header=True, inferSchema=True)\n",
    "\n",
    "# make predictions using XGBoost model\n",
    "predictions = predict(xgb_model, data)\n",
    "\n",
    "# show predicted values\n",
    "predictions.show()\n"
   ]
  }
 ],
 "metadata": {
  "kernelspec": {
   "display_name": "Python 3",
   "language": "python",
   "name": "python3"
  },
  "language_info": {
   "codemirror_mode": {
    "name": "ipython",
    "version": 3
   },
   "file_extension": ".py",
   "mimetype": "text/x-python",
   "name": "python",
   "nbconvert_exporter": "python",
   "pygments_lexer": "ipython3",
   "version": "3.6.4"
  }
 },
 "nbformat": 4,
 "nbformat_minor": 4
}
